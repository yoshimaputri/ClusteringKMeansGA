{
 "cells": [
  {
   "cell_type": "markdown",
   "metadata": {},
   "source": [
    "<b>K-MEANS AND GA</b>"
   ]
  },
  {
   "cell_type": "code",
   "execution_count": 1,
   "metadata": {},
   "outputs": [],
   "source": [
    "import numpy as np"
   ]
  },
  {
   "cell_type": "code",
   "execution_count": 2,
   "metadata": {},
   "outputs": [],
   "source": [
    "def loadDataset(filename):\n",
    "    ds = np.loadtxt(filename, delimiter='\\t')\n",
    "    return ds"
   ]
  },
  {
   "cell_type": "code",
   "execution_count": 3,
   "metadata": {},
   "outputs": [],
   "source": [
    "data = loadDataset('seeds.txt')\n",
    "dataset = data[:,:8]\n",
    "k=3"
   ]
  },
  {
   "cell_type": "code",
   "execution_count": 4,
   "metadata": {},
   "outputs": [],
   "source": [
    "def normalize(data):\n",
    "    print(data)\n",
    "    return (data-data.min(axis=0)) / (data.max(axis=0) - data.min(axis=0))"
   ]
  },
  {
   "cell_type": "code",
   "execution_count": 21,
   "metadata": {},
   "outputs": [
    {
     "name": "stdout",
     "output_type": "stream",
     "text": [
      "[[15.26   14.84    0.871  ...  2.221   5.22    1.    ]\n",
      " [14.88   14.57    0.8811 ...  1.018   4.956   1.    ]\n",
      " [14.29   14.09    0.905  ...  2.699   4.825   1.    ]\n",
      " ...\n",
      " [13.2    13.66    0.8883 ...  8.315   5.056   3.    ]\n",
      " [11.84   13.21    0.8521 ...  3.598   5.044   3.    ]\n",
      " [12.3    13.34    0.8684 ...  5.637   5.063   3.    ]]\n"
     ]
    },
    {
     "data": {
      "text/plain": [
       "array([0.44098206, 0.50206612, 0.5707804 , 0.48648649, 0.48610121,\n",
       "       0.18930164, 0.34515017, 0.        ])"
      ]
     },
     "execution_count": 21,
     "metadata": {},
     "output_type": "execute_result"
    }
   ],
   "source": [
    "datasets = dataset.copy()\n",
    "datasets = datasets[:,:8]\n",
    "datasets = normalize(datasets)\n",
    "datasets[0]"
   ]
  },
  {
   "cell_type": "code",
   "execution_count": 6,
   "metadata": {},
   "outputs": [
    {
     "data": {
      "text/plain": [
       "array([[0.40321058, 0.46694215, 0.5399274 , 0.43862613, 0.44761226,\n",
       "        0.17733945, 0.40965042, 0.        ],\n",
       "       [0.63928234, 0.69214876, 0.63883848, 0.70157658, 0.67284391,\n",
       "        0.35898269, 0.71491876, 0.5       ],\n",
       "       [0.06043437, 0.09710744, 0.39019964, 0.1356982 , 0.11760513,\n",
       "        0.46287171, 0.23830625, 1.        ]])"
      ]
     },
     "execution_count": 6,
     "metadata": {},
     "output_type": "execute_result"
    }
   ],
   "source": [
    "#use 3-cluster\n",
    "cen = []\n",
    "get = []\n",
    "cen.append(datasets[0:70])\n",
    "cen.append(datasets[71:140])\n",
    "cen.append(datasets[141:210])\n",
    "for i in range(k):\n",
    "    np.random.shuffle(cen[i])\n",
    "    get.append(cen[i][50])\n",
    "initC = np.array(get)\n",
    "initC\n",
    "#truly random\n",
    "# centroids = datasets.copy()\n",
    "# np.random.shuffle(centroids)\n",
    "# initC = centroids[:k]\n",
    "# initC"
   ]
  },
  {
   "cell_type": "code",
   "execution_count": 7,
   "metadata": {},
   "outputs": [],
   "source": [
    "def euclid(v1, v2, length): \n",
    "    dist = 0\n",
    "    for i in range(length):\n",
    "        dist += pow((v1[i]-v2[i]), 2)\n",
    "    return (np.sqrt(dist))"
   ]
  },
  {
   "cell_type": "code",
   "execution_count": 8,
   "metadata": {},
   "outputs": [],
   "source": [
    "def new_centroid(cluster, index, new_c):\n",
    "    i = index\n",
    "    length = len(cluster[i])\n",
    "    centro = []\n",
    "    data_ = []\n",
    "    for a in range(7):\n",
    "        centro.append([])\n",
    "    for x in range(length):\n",
    "        data_ = datasets[cluster[i][x], :-1]\n",
    "        for y in range(len(data_)):\n",
    "            centro[y].append(data_[y])\n",
    "    for z in range(len(data_)):\n",
    "        Centro = np.mean(centro[z])\n",
    "        new_c[index].append(Centro)\n",
    "    return new_c"
   ]
  },
  {
   "cell_type": "code",
   "execution_count": 9,
   "metadata": {},
   "outputs": [
    {
     "data": {
      "text/plain": [
       "array([0.63928234, 0.69214876, 0.63883848, 0.70157658, 0.67284391,\n",
       "       0.35898269, 0.71491876])"
      ]
     },
     "execution_count": 9,
     "metadata": {},
     "output_type": "execute_result"
    }
   ],
   "source": [
    "initC[1,:-1]"
   ]
  },
  {
   "cell_type": "code",
   "execution_count": 10,
   "metadata": {
    "scrolled": false
   },
   "outputs": [],
   "source": [
    "def clustering(dataset, centroid):\n",
    "    cluster = []\n",
    "    new_c = []\n",
    "    for i in range(k):\n",
    "        cluster.append([])\n",
    "        new_c.append([])\n",
    "    for i in range(len(dataset)):\n",
    "        dist = []\n",
    "        for j in range(len(initC)):\n",
    "            dist.append(euclid(datasets[i,:], centroid[j,:], 7)) # calculate distance all data with centroid\n",
    "        ind = np.argmin(dist) # get minimum dist to clustering\n",
    "        cluster[ind].append(i)\n",
    "    for i in range(k):\n",
    "        centroid_ = new_centroid(cluster, i, new_c)\n",
    "    centroid_ = np.array(centroid_)\n",
    "    return centroid_, np.array(cluster)"
   ]
  },
  {
   "cell_type": "code",
   "execution_count": 11,
   "metadata": {},
   "outputs": [
    {
     "data": {
      "text/plain": [
       "array([[0.3876603 , 0.42515329, 0.66825713, 0.37426439, 0.47027108,\n",
       "        0.25149538, 0.31614809],\n",
       "       [0.74649416, 0.78376711, 0.69065742, 0.71885505, 0.76089616,\n",
       "        0.37281373, 0.74972993],\n",
       "       [0.12810828, 0.17755841, 0.39697744, 0.18388527, 0.17224994,\n",
       "        0.48853937, 0.27277203]])"
      ]
     },
     "execution_count": 11,
     "metadata": {},
     "output_type": "execute_result"
    }
   ],
   "source": [
    "# init centroid (k=1)\n",
    "centroid, cluster = clustering(datasets[:,:-1], initC[:,:-1])\n",
    "centroid"
   ]
  },
  {
   "cell_type": "code",
   "execution_count": 12,
   "metadata": {
    "scrolled": true
   },
   "outputs": [
    {
     "name": "stdout",
     "output_type": "stream",
     "text": [
      "[[0.38349003 0.4198407  0.67120387 0.36468534 0.46849918 0.26417688\n",
      "  0.31838389]\n",
      " [0.75733298 0.79374354 0.69419238 0.73003765 0.76950062 0.36757645\n",
      "  0.75709318]\n",
      " [0.1233337  0.17513685 0.37817899 0.18671025 0.16252742 0.49856915\n",
      "  0.27928792]]\n",
      "[[0.38349003 0.4198407  0.67120387 0.36468534 0.46849918 0.26417688\n",
      "  0.31838389]\n",
      " [0.75733298 0.79374354 0.69419238 0.73003765 0.76950062 0.36757645\n",
      "  0.75709318]\n",
      " [0.1233337  0.17513685 0.37817899 0.18671025 0.16252742 0.49856915\n",
      "  0.27928792]]\n"
     ]
    }
   ],
   "source": [
    "# init centroid (k after 1)\n",
    "for i in range(k-1):\n",
    "    centroid, cluster = clustering(datasets[:,:-1], centroid)\n",
    "    print(centroid)"
   ]
  },
  {
   "cell_type": "code",
   "execution_count": 13,
   "metadata": {},
   "outputs": [],
   "source": [
    "from sklearn.decomposition import IncrementalPCA\n",
    "import matplotlib.pyplot as plt\n",
    "import random"
   ]
  },
  {
   "cell_type": "code",
   "execution_count": 23,
   "metadata": {},
   "outputs": [
    {
     "data": {
      "text/plain": [
       "array([[15.26  , 14.84  ,  0.871 , ...,  2.221 ,  5.22  ,  1.    ],\n",
       "       [14.88  , 14.57  ,  0.8811, ...,  1.018 ,  4.956 ,  1.    ],\n",
       "       [14.29  , 14.09  ,  0.905 , ...,  2.699 ,  4.825 ,  1.    ],\n",
       "       ...,\n",
       "       [13.2   , 13.66  ,  0.8883, ...,  8.315 ,  5.056 ,  3.    ],\n",
       "       [11.84  , 13.21  ,  0.8521, ...,  3.598 ,  5.044 ,  3.    ],\n",
       "       [12.3   , 13.34  ,  0.8684, ...,  5.637 ,  5.063 ,  3.    ]])"
      ]
     },
     "execution_count": 23,
     "metadata": {},
     "output_type": "execute_result"
    }
   ],
   "source": [
    "# to get x,y from 7 fitur\n",
    "X = dataset\n",
    "ipca = IncrementalPCA(n_components=2)\n",
    "ipca.fit(X)\n",
    "pca = ipca.transform(X)\n",
    "# pca[:,0]\n",
    "# dataset[:,-1:]\n",
    "C = centroid\n",
    "ipca2 = IncrementalPCA(n_components=2)\n",
    "ipca2.fit(C)\n",
    "pca2 = ipca2.transform(C)\n",
    "\n",
    "dataset"
   ]
  },
  {
   "cell_type": "code",
   "execution_count": 15,
   "metadata": {},
   "outputs": [
    {
     "data": {
      "image/png": "[encoded data removed]",
      "text/plain": [
       "<matplotlib.figure.Figure at 0x24fff62b160>"
      ]
     },
     "metadata": {},
     "output_type": "display_data"
    }
   ],
   "source": [
    "fig, axs = plt.subplots(1, 1, figsize=(5,5))\n",
    "for i in range(k):\n",
    "    color = \"#%06x\" % random.randint(0, 0xFFFFFF)\n",
    "    for j in range(len(cluster[i])):\n",
    "        ke = cluster[i][j]\n",
    "        x = pca[ke,0]\n",
    "        y = pca[ke,1]\n",
    "        axs.scatter(x,y,color=color,marker=\">\")\n",
    "    axs.scatter(pca2[i,0], pca2[i,1], marker=\"o\")\n",
    "plt.show()"
   ]
  },
  {
   "cell_type": "code",
   "execution_count": 24,
   "metadata": {},
   "outputs": [
    {
     "name": "stdout",
     "output_type": "stream",
     "text": [
      "1\n",
      "2\n",
      "3\n",
      "187 23\n",
      "akurasi: 89.04761904761904\n",
      "err: 10.952380952380953\n"
     ]
    }
   ],
   "source": [
    "true = 0\n",
    "false = 0\n",
    "\n",
    "for i in range(len(cluster)):\n",
    "    lst = []\n",
    "    for j in range(len(cluster[i])):\n",
    "        ke = cluster[i][j]\n",
    "        lst.append(dataset[ke,-1:])\n",
    "    cls = int(max(lst,key=lst.count))\n",
    "    print(cls)\n",
    "    for j in range(len(cluster[i])):\n",
    "        ke = cluster[i][j]\n",
    "        if (dataset[ke,-1:] == cls):\n",
    "            true += 1;\n",
    "        else:\n",
    "            false += 1;\n",
    "print(true, false)\n",
    "akurasi = true/210*100\n",
    "err = ((210)-true)/210*100\n",
    "print(\"akurasi:\", akurasi)\n",
    "print(\"err:\",err)"
   ]
  },
  {
   "cell_type": "code",
   "execution_count": 17,
   "metadata": {},
   "outputs": [
    {
     "data": {
      "text/plain": [
       "array([list([0, 1, 2, 3, 4, 5, 7, 8, 9, 10, 11, 12, 15, 16, 17, 18, 19, 20, 21, 22, 23, 24, 25, 26, 28, 29, 30, 32, 33, 34, 35, 36, 37, 38, 39, 41, 42, 43, 45, 46, 47, 48, 50, 51, 52, 55, 56, 57, 58, 59, 60, 61, 62, 63, 64, 65, 67, 68, 74, 83, 86, 102, 105, 110, 134, 138, 156, 168, 197]),\n",
       "       list([40, 49, 70, 71, 72, 73, 75, 76, 77, 78, 79, 80, 81, 82, 84, 85, 87, 88, 89, 90, 91, 92, 93, 94, 95, 96, 97, 98, 99, 100, 101, 103, 104, 106, 107, 108, 109, 111, 112, 113, 114, 115, 116, 117, 118, 119, 120, 121, 122, 123, 124, 125, 126, 127, 128, 129, 130, 131, 132, 133, 135, 136, 137, 139]),\n",
       "       list([6, 13, 14, 27, 31, 44, 53, 54, 66, 69, 140, 141, 142, 143, 144, 145, 146, 147, 148, 149, 150, 151, 152, 153, 154, 155, 157, 158, 159, 160, 161, 162, 163, 164, 165, 166, 167, 169, 170, 171, 172, 173, 174, 175, 176, 177, 178, 179, 180, 181, 182, 183, 184, 185, 186, 187, 188, 189, 190, 191, 192, 193, 194, 195, 196, 198, 199, 200, 201, 202, 203, 204, 205, 206, 207, 208, 209])],\n",
       "      dtype=object)"
      ]
     },
     "execution_count": 17,
     "metadata": {},
     "output_type": "execute_result"
    }
   ],
   "source": [
    "cluster"
   ]
  },
  {
   "cell_type": "code",
   "execution_count": 31,
   "metadata": {},
   "outputs": [
    {
     "name": "stdout",
     "output_type": "stream",
     "text": [
      "[0, 1, 2, 3, 4]\n",
      "[0, 1, 2, 3, 4]\n"
     ]
    }
   ],
   "source": [
    "a = []\n",
    "for i in range(5):\n",
    "    a.append(i)\n",
    "print(a)\n",
    "c = [i for i in range(5)]\n",
    "print(c)"
   ]
  },
  {
   "cell_type": "code",
   "execution_count": 50,
   "metadata": {},
   "outputs": [
    {
     "data": {
      "text/plain": [
       "4"
      ]
     },
     "execution_count": 50,
     "metadata": {},
     "output_type": "execute_result"
    }
   ],
   "source": [
    "max(c)"
   ]
  },
  {
   "cell_type": "code",
   "execution_count": 22,
   "metadata": {},
   "outputs": [],
   "source": [
    "import K_means\n",
    "import numpy as np"
   ]
  },
  {
   "cell_type": "code",
   "execution_count": 23,
   "metadata": {},
   "outputs": [
    {
     "name": "stdout",
     "output_type": "stream",
     "text": [
      "centroid [[0.77998111 0.7768595  0.88475499 0.70551802 0.83820385 0.27017644\n",
      "  0.8276711 ]\n",
      " [0.40509915 0.44628099 0.66243194 0.36880631 0.50106914 0.03288302\n",
      "  0.21516494]\n",
      " [0.19641171 0.18801653 0.81306715 0.04786036 0.35994298 0.19957352\n",
      "  0.11127523]]\n",
      "acc 85.97480311066602\n",
      "sse 57.03353417845411\n"
     ]
    }
   ],
   "source": [
    "k = 3\n",
    "cluster = K_means.Kmeans('seeds.txt', k)\n",
    "cluster.clustering()\n",
    "centroid, sse, acc = cluster.groupData()\n",
    "print(\"centroid\", np.array(centroid))\n",
    "print(\"acc\", acc)\n",
    "print(\"sse\", sse)"
   ]
  },
  {
   "cell_type": "code",
   "execution_count": null,
   "metadata": {},
   "outputs": [],
   "source": []
  }
 ],
 "metadata": {
  "kernelspec": {
   "display_name": "Python 3",
   "language": "python",
   "name": "python3"
  },
  "language_info": {
   "codemirror_mode": {
    "name": "ipython",
    "version": 3
   },
   "file_extension": ".py",
   "mimetype": "text/x-python",
   "name": "python",
   "nbconvert_exporter": "python",
   "pygments_lexer": "ipython3",
   "version": "3.6.4"
  }
 },
 "nbformat": 4,
 "nbformat_minor": 2
}
