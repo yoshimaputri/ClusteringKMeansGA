{
 "cells": [
  {
   "cell_type": "markdown",
   "metadata": {},
   "source": [
    "<b>K-MEANS AND GA</b>"
   ]
  },
  {
   "cell_type": "code",
   "execution_count": 2,
   "metadata": {},
   "outputs": [],
   "source": [
    "import numpy as np"
   ]
  },
  {
   "cell_type": "code",
   "execution_count": 3,
   "metadata": {},
   "outputs": [],
   "source": [
    "def loadDataset(filename):\n",
    "    ds = np.loadtxt(filename, delimiter='\\t')\n",
    "    return ds"
   ]
  },
  {
   "cell_type": "code",
   "execution_count": 4,
   "metadata": {},
   "outputs": [],
   "source": [
    "data = loadDataset('seeds.txt')\n",
    "dataset = data[:,:8]\n",
    "k=3"
   ]
  },
  {
   "cell_type": "code",
   "execution_count": 7,
   "metadata": {},
   "outputs": [],
   "source": [
    "def normalize(data):\n",
    "    print(data)\n",
    "    return (data-data.min(axis=0)) / (data.max(axis=0) - data.min(axis=0))"
   ]
  },
  {
   "cell_type": "code",
   "execution_count": 9,
   "metadata": {},
   "outputs": [
    {
     "name": "stdout",
     "output_type": "stream",
     "text": [
      "[[15.26   14.84    0.871  ...  2.221   5.22    1.    ]\n",
      " [14.88   14.57    0.8811 ...  1.018   4.956   1.    ]\n",
      " [14.29   14.09    0.905  ...  2.699   4.825   1.    ]\n",
      " ...\n",
      " [13.2    13.66    0.8883 ...  8.315   5.056   3.    ]\n",
      " [11.84   13.21    0.8521 ...  3.598   5.044   3.    ]\n",
      " [12.3    13.34    0.8684 ...  5.637   5.063   3.    ]]\n"
     ]
    },
    {
     "data": {
      "text/plain": [
       "array([0.40509915, 0.44628099, 0.66243194, 0.36880631, 0.50106914,\n",
       "       0.03288302, 0.21516494, 0.        ])"
      ]
     },
     "execution_count": 9,
     "metadata": {},
     "output_type": "execute_result"
    }
   ],
   "source": [
    "datasets = dataset.copy()\n",
    "datasets = datasets[:,:8]\n",
    "datasets = normalize(datasets)\n",
    "datasets[1]"
   ]
  },
  {
   "cell_type": "code",
   "execution_count": 399,
   "metadata": {},
   "outputs": [
    {
     "data": {
      "text/plain": [
       "array([[0.41737488, 0.48553719, 0.52268603, 0.50112613, 0.4383464 ,\n",
       "        0.13339141, 0.23732152, 0.        ],\n",
       "       [0.47025496, 0.5661157 , 0.40471869, 0.57488739, 0.42836778,\n",
       "        0.24378161, 0.66962088, 0.5       ],\n",
       "       [0.04060434, 0.12190083, 0.09800363, 0.23986486, 0.05060584,\n",
       "        0.77622905, 0.31708518, 1.        ]])"
      ]
     },
     "execution_count": 399,
     "metadata": {},
     "output_type": "execute_result"
    }
   ],
   "source": [
    "#use 3-cluster\n",
    "cen = []\n",
    "get = []\n",
    "cen.append(datasets[0:70])\n",
    "cen.append(datasets[71:140])\n",
    "cen.append(datasets[141:210])\n",
    "for i in range(k):\n",
    "    np.random.shuffle(cen[i])\n",
    "    get.append(cen[i][50])\n",
    "initC = np.array(get)\n",
    "initC\n",
    "#truly random\n",
    "# centroids = datasets.copy()\n",
    "# np.random.shuffle(centroids)\n",
    "# initC = centroids[:k]\n",
    "# initC"
   ]
  },
  {
   "cell_type": "code",
   "execution_count": 400,
   "metadata": {},
   "outputs": [],
   "source": [
    "def euclid(v1, v2, length): \n",
    "    dist = 0\n",
    "    for i in range(length):\n",
    "        dist += pow((v1[i]-v2[i]), 2)\n",
    "    return (np.sqrt(dist))"
   ]
  },
  {
   "cell_type": "code",
   "execution_count": 401,
   "metadata": {},
   "outputs": [
    {
     "data": {
      "text/plain": [
       "(210, 7)"
      ]
     },
     "execution_count": 401,
     "metadata": {},
     "output_type": "execute_result"
    }
   ],
   "source": [
    "centroids.shape"
   ]
  },
  {
   "cell_type": "code",
   "execution_count": 402,
   "metadata": {},
   "outputs": [],
   "source": [
    "def new_centroid(cluster, index, new_c):\n",
    "    i = index\n",
    "    length = len(cluster[i])\n",
    "    centro = []\n",
    "    data_ = []\n",
    "    for a in range(7):\n",
    "        centro.append([])\n",
    "    for x in range(length):\n",
    "        data_ = datasets[cluster[i][x], :-1]\n",
    "        for y in range(len(data_)):\n",
    "            centro[y].append(data_[y])\n",
    "    for z in range(len(data_)):\n",
    "        Centro = np.mean(centro[z])\n",
    "        new_c[index].append(Centro)\n",
    "    return new_c"
   ]
  },
  {
   "cell_type": "code",
   "execution_count": 403,
   "metadata": {},
   "outputs": [
    {
     "data": {
      "text/plain": [
       "array([0.47025496, 0.5661157 , 0.40471869, 0.57488739, 0.42836778,\n",
       "       0.24378161, 0.66962088])"
      ]
     },
     "execution_count": 403,
     "metadata": {},
     "output_type": "execute_result"
    }
   ],
   "source": [
    "initC[1,:-1]"
   ]
  },
  {
   "cell_type": "code",
   "execution_count": 404,
   "metadata": {
    "scrolled": false
   },
   "outputs": [],
   "source": [
    "def clustering(dataset, centroid):\n",
    "    cluster = []\n",
    "    new_c = []\n",
    "    for i in range(k):\n",
    "        cluster.append([])\n",
    "        new_c.append([])\n",
    "    for i in range(len(dataset)):\n",
    "        dist = []\n",
    "        for j in range(len(initC)):\n",
    "            dist.append(euclid(datasets[i,:], centroid[j,:], 7)) # calculate distance all data with centroid\n",
    "        ind = np.argmin(dist) # get minimum dist to clustering\n",
    "        cluster[ind].append(i)\n",
    "    for i in range(k):\n",
    "        centroid_ = new_centroid(cluster, i, new_c)\n",
    "    centroid_ = np.array(centroid_)\n",
    "    return centroid_, np.array(cluster)"
   ]
  },
  {
   "cell_type": "code",
   "execution_count": 405,
   "metadata": {},
   "outputs": [
    {
     "data": {
      "text/plain": [
       "array([[0.32653208, 0.35934721, 0.65170346, 0.30952075, 0.41480733,\n",
       "        0.25499526, 0.26932546],\n",
       "       [0.72443867, 0.76512282, 0.6732078 , 0.70590121, 0.73701196,\n",
       "        0.37346229, 0.73731468],\n",
       "       [0.10968134, 0.16570948, 0.33738349, 0.18619255, 0.13990601,\n",
       "        0.56116969, 0.29769922]])"
      ]
     },
     "execution_count": 405,
     "metadata": {},
     "output_type": "execute_result"
    }
   ],
   "source": [
    "# init centroid (k=1)\n",
    "centroid, cluster = clustering(datasets[:,:-1], initC[:,:-1])\n",
    "centroid"
   ]
  },
  {
   "cell_type": "code",
   "execution_count": 406,
   "metadata": {
    "scrolled": true
   },
   "outputs": [
    {
     "name": "stdout",
     "output_type": "stream",
     "text": [
      "[[0.34369426 0.3771809  0.66364186 0.32352665 0.43394116 0.25915368\n",
      "  0.27203348]\n",
      " [0.73267366 0.77141776 0.68399325 0.70942774 0.7476233  0.3679873\n",
      "  0.73979376]\n",
      " [0.1143433  0.16905144 0.35097651 0.18804626 0.14573249 0.52771283\n",
      "  0.29575902]]\n",
      "[[0.35538443 0.38930276 0.66864344 0.33670378 0.44306466 0.26063379\n",
      "  0.28653061]\n",
      " [0.73967785 0.77775782 0.68701176 0.7143883  0.75408803 0.36780924\n",
      "  0.74493895]\n",
      " [0.11652502 0.17069067 0.35690952 0.18662323 0.15142043 0.51798693\n",
      "  0.28833087]]\n"
     ]
    }
   ],
   "source": [
    "# init centroid (k after 1)\n",
    "for i in range(k-1):\n",
    "    centroid, cluster = clustering(datasets[:,:-1], centroid)\n",
    "    print(centroid)"
   ]
  },
  {
   "cell_type": "code",
   "execution_count": 407,
   "metadata": {},
   "outputs": [],
   "source": [
    "from sklearn.decomposition import IncrementalPCA\n",
    "import matplotlib.pyplot as plt\n",
    "import random"
   ]
  },
  {
   "cell_type": "code",
   "execution_count": 408,
   "metadata": {},
   "outputs": [
    {
     "data": {
      "text/plain": [
       "0"
      ]
     },
     "execution_count": 408,
     "metadata": {},
     "output_type": "execute_result"
    }
   ],
   "source": [
    "# to get x,y from 7 fitur\n",
    "X = dataset\n",
    "ipca = IncrementalPCA(n_components=2)\n",
    "ipca.fit(X)\n",
    "pca = ipca.transform(X)\n",
    "# pca[:,0]\n",
    "# dataset[:,-1:]\n",
    "C = centroid\n",
    "ipca2 = IncrementalPCA(n_components=2)\n",
    "ipca2.fit(C)\n",
    "pca2 = ipca2.transform(C)\n",
    "cluster[0][0]"
   ]
  },
  {
   "cell_type": "code",
   "execution_count": 409,
   "metadata": {},
   "outputs": [
    {
     "data": {
      "image/png": "[encoded data removed]",
      "text/plain": [
       "<matplotlib.figure.Figure at 0x21aa5963748>"
      ]
     },
     "metadata": {},
     "output_type": "display_data"
    }
   ],
   "source": [
    "fig, axs = plt.subplots(1, 1, figsize=(5,5))\n",
    "for i in range(k):\n",
    "    color = \"#%06x\" % random.randint(0, 0xFFFFFF)\n",
    "    for j in range(len(cluster[i])):\n",
    "        ke = cluster[i][j]\n",
    "        x = pca[ke,0]\n",
    "        y = pca[ke,1]\n",
    "        axs.scatter(x,y,color=color,marker=\">\")\n",
    "    axs.scatter(pca2[i,0], pca2[i,1], marker=\"o\")\n",
    "plt.show()"
   ]
  },
  {
   "cell_type": "code",
   "execution_count": 410,
   "metadata": {},
   "outputs": [
    {
     "name": "stdout",
     "output_type": "stream",
     "text": [
      "1\n",
      "2\n",
      "3\n",
      "193 17\n",
      "8.095238095238095\n"
     ]
    }
   ],
   "source": [
    "true = 0\n",
    "false = 0\n",
    "\n",
    "for i in range(len(cluster)):\n",
    "    lst = []\n",
    "    for j in range(len(cluster[i])):\n",
    "        ke = cluster[i][j]\n",
    "        lst.append(dataset[ke,-1:])\n",
    "    cls = int(max(lst,key=lst.count))\n",
    "    print(cls)\n",
    "    for j in range(len(cluster[i])):\n",
    "        ke = cluster[i][j]\n",
    "        if (dataset[ke,-1:] == cls):\n",
    "            true += 1;\n",
    "        else:\n",
    "            false += 1;\n",
    "print(true, false)\n",
    "err = ((210)-true)/210*100\n",
    "print(err)"
   ]
  },
  {
   "cell_type": "code",
   "execution_count": 411,
   "metadata": {},
   "outputs": [
    {
     "data": {
      "text/plain": [
       "array([list([0, 1, 2, 3, 4, 5, 6, 7, 8, 9, 10, 11, 12, 14, 16, 17, 18, 19, 20, 21, 22, 24, 25, 26, 27, 28, 29, 30, 31, 32, 33, 34, 35, 36, 38, 39, 40, 41, 42, 43, 44, 45, 46, 47, 48, 49, 50, 52, 55, 56, 57, 58, 59, 60, 61, 62, 63, 64, 65, 66, 67, 69, 88, 96, 119, 136, 143, 154, 160, 172, 188]),\n",
       "       list([15, 37, 54, 70, 71, 72, 73, 74, 75, 76, 77, 78, 79, 80, 81, 82, 83, 84, 85, 86, 87, 89, 90, 91, 92, 93, 94, 95, 97, 98, 99, 100, 101, 102, 103, 104, 105, 106, 107, 108, 109, 110, 111, 112, 113, 114, 115, 116, 117, 118, 120, 121, 122, 123, 124, 125, 126, 127, 128, 129, 130, 131, 132, 133, 134, 135, 137, 138, 139]),\n",
       "       list([13, 23, 51, 53, 68, 140, 141, 142, 144, 145, 146, 147, 148, 149, 150, 151, 152, 153, 155, 156, 157, 158, 159, 161, 162, 163, 164, 165, 166, 167, 168, 169, 170, 171, 173, 174, 175, 176, 177, 178, 179, 180, 181, 182, 183, 184, 185, 186, 187, 189, 190, 191, 192, 193, 194, 195, 196, 197, 198, 199, 200, 201, 202, 203, 204, 205, 206, 207, 208, 209])],\n",
       "      dtype=object)"
      ]
     },
     "execution_count": 411,
     "metadata": {},
     "output_type": "execute_result"
    }
   ],
   "source": [
    "cluster"
   ]
  },
  {
   "cell_type": "code",
   "execution_count": null,
   "metadata": {},
   "outputs": [],
   "source": []
  }
 ],
 "metadata": {
  "kernelspec": {
   "display_name": "Python 3",
   "language": "python",
   "name": "python3"
  },
  "language_info": {
   "codemirror_mode": {
    "name": "ipython",
    "version": 3
   },
   "file_extension": ".py",
   "mimetype": "text/x-python",
   "name": "python",
   "nbconvert_exporter": "python",
   "pygments_lexer": "ipython3",
   "version": "3.6.4"
  }
 },
 "nbformat": 4,
 "nbformat_minor": 2
}
