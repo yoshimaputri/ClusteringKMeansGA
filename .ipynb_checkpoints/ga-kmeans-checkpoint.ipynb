{
 "cells": [
  {
   "cell_type": "code",
   "execution_count": 1,
   "metadata": {},
   "outputs": [],
   "source": [
    "import numpy as np"
   ]
  },
  {
   "cell_type": "code",
   "execution_count": 2,
   "metadata": {},
   "outputs": [],
   "source": [
    "def loadDataset(filename):\n",
    "    ds = np.loadtxt(filename, delimiter='\\t')\n",
    "    return ds"
   ]
  },
  {
   "cell_type": "code",
   "execution_count": 3,
   "metadata": {},
   "outputs": [],
   "source": [
    "data = loadDataset('seeds.txt')\n",
    "dataset = data[:,:8]\n",
    "k=3"
   ]
  },
  {
   "cell_type": "code",
   "execution_count": 4,
   "metadata": {},
   "outputs": [
    {
     "data": {
      "text/plain": [
       "array([15.26 , 14.84 ,  0.871,  5.763,  3.312,  2.221,  5.22 ,  1.   ])"
      ]
     },
     "execution_count": 4,
     "metadata": {},
     "output_type": "execute_result"
    }
   ],
   "source": [
    "dataset[0]"
   ]
  },
  {
   "cell_type": "code",
   "execution_count": 31,
   "metadata": {},
   "outputs": [
    {
     "data": {
      "text/plain": [
       "array([[13.37  , 13.78  ,  0.8849,  5.32  ,  3.128 ,  4.67  ,  5.091 ,\n",
       "         3.    ],\n",
       "       [18.89  , 16.23  ,  0.9008,  6.227 ,  3.769 ,  3.639 ,  5.966 ,\n",
       "         2.    ],\n",
       "       [13.84  , 13.94  ,  0.8955,  5.324 ,  3.379 ,  2.259 ,  4.805 ,\n",
       "         1.    ]])"
      ]
     },
     "execution_count": 31,
     "metadata": {},
     "output_type": "execute_result"
    }
   ],
   "source": [
    "centroids = dataset.copy()\n",
    "np.random.shuffle(centroids)\n",
    "initC = centroids[:k]\n",
    "initC"
   ]
  },
  {
   "cell_type": "code",
   "execution_count": 32,
   "metadata": {},
   "outputs": [],
   "source": [
    "def euclid(v1, v2, length): \n",
    "    dist = 0\n",
    "    for i in range(length):\n",
    "        dist += pow((v1[i]-v2[i]), 2)\n",
    "    return (np.sqrt(dist))"
   ]
  },
  {
   "cell_type": "code",
   "execution_count": 33,
   "metadata": {},
   "outputs": [
    {
     "data": {
      "text/plain": [
       "(210, 8)"
      ]
     },
     "execution_count": 33,
     "metadata": {},
     "output_type": "execute_result"
    }
   ],
   "source": [
    "centroids.shape"
   ]
  },
  {
   "cell_type": "code",
   "execution_count": 297,
   "metadata": {},
   "outputs": [],
   "source": [
    "def new_centroid(cluster, index, new_c):\n",
    "    i = index\n",
    "    length = len(cluster[i])\n",
    "    centro = []\n",
    "    data_ = []\n",
    "    for a in range(7):\n",
    "        centro.append([])\n",
    "    for x in range(length):\n",
    "        data_ = dataset[cluster[i][x], :-1]\n",
    "        for y in range(len(data_)):\n",
    "            centro[y].append(data_[y])\n",
    "    for z in range(len(data_)):\n",
    "        Centro = np.mean(centro[z])\n",
    "        new_c[index].append(Centro)\n",
    "    return new_c"
   ]
  },
  {
   "cell_type": "code",
   "execution_count": 298,
   "metadata": {},
   "outputs": [
    {
     "data": {
      "text/plain": [
       "4.0"
      ]
     },
     "execution_count": 298,
     "metadata": {},
     "output_type": "execute_result"
    }
   ],
   "source": [
    "a = [4]\n",
    "np.mean(a)"
   ]
  },
  {
   "cell_type": "code",
   "execution_count": 304,
   "metadata": {
    "scrolled": false
   },
   "outputs": [],
   "source": [
    "def clustering(dataset, centroid):\n",
    "    cluster = []\n",
    "    new_c = []\n",
    "    for i in range(k):\n",
    "        cluster.append([])\n",
    "        new_c.append([])\n",
    "    for i in range(len(dataset)):\n",
    "        dist = []\n",
    "        for j in range(len(initC)):\n",
    "            dist.append(euclid(dataset[i,:-1], centroid[j,:], 7)) # calculate distance all data with centroid\n",
    "        ind = np.argmin(dist) # get minimum dist to clustering\n",
    "        cluster[ind].append(i)\n",
    "    for i in range(k):\n",
    "        centroid_ = new_centroid(cluster, i, new_c)\n",
    "    centroid_ = np.array(centroid_)\n",
    "    return centroid_, np.array(cluster)"
   ]
  },
  {
   "cell_type": "code",
   "execution_count": 305,
   "metadata": {},
   "outputs": [
    {
     "data": {
      "text/plain": [
       "array([[12.34390244, 13.45719512,  0.85416707,  5.29497561,  2.92326829,\n",
       "         4.86820732,  5.12282927],\n",
       "       [18.53984848, 16.22333333,  0.88423939,  6.18174242,  3.70192424,\n",
       "         3.61207576,  6.04465152],\n",
       "       [14.22822581, 14.24548387,  0.87916452,  5.48079032,  3.23019355,\n",
       "         2.24922903,  5.10767742]])"
      ]
     },
     "execution_count": 305,
     "metadata": {},
     "output_type": "execute_result"
    }
   ],
   "source": [
    "# init centroid (k=1)\n",
    "centroid, cluster = clustering(dataset, initC[:,:-1])\n",
    "centroid"
   ]
  },
  {
   "cell_type": "code",
   "execution_count": 313,
   "metadata": {
    "scrolled": true
   },
   "outputs": [
    {
     "name": "stdout",
     "output_type": "stream",
     "text": [
      "[[11.952      13.27506667  0.85124933  5.23302667  2.86825333  4.81961333\n",
      "   5.0924    ]\n",
      " [18.53984848 16.22333333  0.88423939  6.18174242  3.70192424  3.61207576\n",
      "   6.04465152]\n",
      " [14.46304348 14.36347826  0.8798      5.52927536  3.25885507  2.56774203\n",
      "   5.14228986]]\n",
      "[[11.93973333 13.26693333  0.851452    5.22916     2.86712     4.80398667\n",
      "   5.09548   ]\n",
      " [18.57538462 16.23938462  0.88422769  6.18650769  3.70546154  3.60966154\n",
      "   6.04653846]\n",
      " [14.50142857 14.38385714  0.87965714  5.53831429  3.26311429  2.60164571\n",
      "   5.15012857]]\n"
     ]
    }
   ],
   "source": [
    "# init centroid (k after 1)\n",
    "for i in range(k-1):\n",
    "    centroid, cluster = clustering(dataset, centroid)\n",
    "    print(centroid)"
   ]
  },
  {
   "cell_type": "code",
   "execution_count": 406,
   "metadata": {},
   "outputs": [],
   "source": [
    "from sklearn.decomposition import IncrementalPCA\n",
    "import matplotlib.pyplot as plt\n",
    "import random"
   ]
  },
  {
   "cell_type": "code",
   "execution_count": 456,
   "metadata": {},
   "outputs": [],
   "source": [
    "# to get x,y from 7 fitur\n",
    "X = dataset\n",
    "ipca = IncrementalPCA(n_components=2)\n",
    "ipca.fit(X)\n",
    "pca = ipca.transform(X)\n",
    "# pca[:,0]\n",
    "# dataset[:,-1:]\n",
    "C = centroid\n",
    "ipca2 = IncrementalPCA(n_components=2)\n",
    "ipca2.fit(C)\n",
    "pca2 = ipca2.transform(C)"
   ]
  },
  {
   "cell_type": "code",
   "execution_count": 460,
   "metadata": {},
   "outputs": [
    {
     "data": {
      "image/png": "[encoded data removed]",
      "text/plain": [
       "<matplotlib.figure.Figure at 0x28b89f5c710>"
      ]
     },
     "metadata": {},
     "output_type": "display_data"
    }
   ],
   "source": [
    "fig, axs = plt.subplots(1, 1, figsize=(5,5))\n",
    "for i in range(k):\n",
    "    color = \"#%06x\" % random.randint(0, 0xFFFFFF)\n",
    "    for j in range(len(dataset)):\n",
    "        if (dataset[j,-1:] == i+1):\n",
    "            x = pca[j,0]\n",
    "            y = pca[j,1]\n",
    "            axs.scatter(x,y,color=color,marker=\">\")\n",
    "    axs.scatter(pca2[i,0], pca2[i,1], marker=\"o\")\n",
    "plt.show()"
   ]
  },
  {
   "cell_type": "code",
   "execution_count": null,
   "metadata": {},
   "outputs": [],
   "source": []
  }
 ],
 "metadata": {
  "kernelspec": {
   "display_name": "Python 3",
   "language": "python",
   "name": "python3"
  },
  "language_info": {
   "codemirror_mode": {
    "name": "ipython",
    "version": 3
   },
   "file_extension": ".py",
   "mimetype": "text/x-python",
   "name": "python",
   "nbconvert_exporter": "python",
   "pygments_lexer": "ipython3",
   "version": "3.6.4"
  }
 },
 "nbformat": 4,
 "nbformat_minor": 2
}
