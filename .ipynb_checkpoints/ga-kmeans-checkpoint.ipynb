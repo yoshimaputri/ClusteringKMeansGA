{
 "cells": [
  {
   "cell_type": "code",
   "execution_count": 1,
   "metadata": {},
   "outputs": [],
   "source": [
    "import numpy as np"
   ]
  },
  {
   "cell_type": "code",
   "execution_count": 2,
   "metadata": {},
   "outputs": [],
   "source": [
    "def loadDataset(filename):\n",
    "    ds = np.loadtxt(filename, delimiter='\\t')\n",
    "    return ds"
   ]
  },
  {
   "cell_type": "code",
   "execution_count": 33,
   "metadata": {},
   "outputs": [],
   "source": [
    "data = loadDataset('seeds.txt')\n",
    "dataset = data[:,:8]\n",
    "k=3"
   ]
  },
  {
   "cell_type": "code",
   "execution_count": 34,
   "metadata": {},
   "outputs": [
    {
     "data": {
      "text/plain": [
       "array([15.26 , 14.84 ,  0.871,  5.763,  3.312,  2.221,  5.22 ,  1.   ])"
      ]
     },
     "execution_count": 34,
     "metadata": {},
     "output_type": "execute_result"
    }
   ],
   "source": [
    "dataset[0]"
   ]
  },
  {
   "cell_type": "code",
   "execution_count": 35,
   "metadata": {},
   "outputs": [
    {
     "data": {
      "text/plain": [
       "array([[11.36  , 13.05  ,  0.8382,  5.175 ,  2.755 ,  4.048 ,  5.263 ,\n",
       "         3.    ],\n",
       "       [19.06  , 16.45  ,  0.8854,  6.416 ,  3.719 ,  2.248 ,  6.163 ,\n",
       "         2.    ],\n",
       "       [12.46  , 13.41  ,  0.8706,  5.236 ,  3.017 ,  4.987 ,  5.147 ,\n",
       "         3.    ]])"
      ]
     },
     "execution_count": 35,
     "metadata": {},
     "output_type": "execute_result"
    }
   ],
   "source": [
    "centroids = dataset.copy()\n",
    "np.random.shuffle(centroids)\n",
    "initC = centroids[:k]\n",
    "initC"
   ]
  },
  {
   "cell_type": "code",
   "execution_count": 36,
   "metadata": {},
   "outputs": [],
   "source": [
    "def euclid(v1, v2, length): \n",
    "    dist = 0\n",
    "    for i in range(length):\n",
    "        dist += pow((v1[i]-v2[i]), 2)\n",
    "    return (np.sqrt(dist))"
   ]
  },
  {
   "cell_type": "code",
   "execution_count": 37,
   "metadata": {},
   "outputs": [
    {
     "data": {
      "text/plain": [
       "(210, 8)"
      ]
     },
     "execution_count": 37,
     "metadata": {},
     "output_type": "execute_result"
    }
   ],
   "source": [
    "centroids.shape"
   ]
  },
  {
   "cell_type": "code",
   "execution_count": 38,
   "metadata": {},
   "outputs": [],
   "source": [
    "def new_centroid(cluster, index, new_c):\n",
    "    i = index\n",
    "    length = len(cluster[i])\n",
    "    centro = []\n",
    "    data_ = []\n",
    "    for a in range(7):\n",
    "        centro.append([])\n",
    "    for x in range(length):\n",
    "        data_ = dataset[cluster[i][x], :-1]\n",
    "        for y in range(len(data_)):\n",
    "            centro[y].append(data_[y])\n",
    "    for z in range(len(data_)):\n",
    "        Centro = np.mean(centro[z])\n",
    "        new_c[index].append(Centro)\n",
    "    return new_c"
   ]
  },
  {
   "cell_type": "code",
   "execution_count": 39,
   "metadata": {},
   "outputs": [
    {
     "data": {
      "text/plain": [
       "4.0"
      ]
     },
     "execution_count": 39,
     "metadata": {},
     "output_type": "execute_result"
    }
   ],
   "source": [
    "a = [4]\n",
    "np.mean(a)"
   ]
  },
  {
   "cell_type": "code",
   "execution_count": 40,
   "metadata": {
    "scrolled": false
   },
   "outputs": [],
   "source": [
    "def clustering(dataset, centroid):\n",
    "    cluster = []\n",
    "    new_c = []\n",
    "    for i in range(k):\n",
    "        cluster.append([])\n",
    "        new_c.append([])\n",
    "    for i in range(len(dataset)):\n",
    "        dist = []\n",
    "        for j in range(len(initC)):\n",
    "            dist.append(euclid(dataset[i,:-1], centroid[j,:], 7)) # calculate distance all data with centroid\n",
    "        ind = np.argmin(dist) # get minimum dist to clustering\n",
    "        cluster[ind].append(i)\n",
    "    for i in range(k):\n",
    "        centroid_ = new_centroid(cluster, i, new_c)\n",
    "    centroid_ = np.array(centroid_)\n",
    "    return centroid_, np.array(cluster)"
   ]
  },
  {
   "cell_type": "code",
   "execution_count": 41,
   "metadata": {},
   "outputs": [
    {
     "data": {
      "text/plain": [
       "array([[11.83458333, 13.189375  ,  0.853975  ,  5.19002083,  2.8604375 ,\n",
       "         3.45773125,  5.0105625 ],\n",
       "       [18.13064103, 16.03512821,  0.88465385,  6.10933333,  3.66276923,\n",
       "         3.36087308,  5.9384359 ],\n",
       "       [13.52059524, 13.97166667,  0.86804643,  5.43265476,  3.11083333,\n",
       "         4.15384524,  5.1427381 ]])"
      ]
     },
     "execution_count": 41,
     "metadata": {},
     "output_type": "execute_result"
    }
   ],
   "source": [
    "# init centroid (k=1)\n",
    "centroid, cluster = clustering(dataset, initC[:,:-1])\n",
    "centroid"
   ]
  },
  {
   "cell_type": "code",
   "execution_count": 42,
   "metadata": {
    "scrolled": true
   },
   "outputs": [
    {
     "name": "stdout",
     "output_type": "stream",
     "text": [
      "[[11.73828125 13.1753125   0.84920625  5.19842188  2.83428125  4.08478281\n",
      "   5.04642188]\n",
      " [18.20328947 16.06855263  0.88462105  6.12059211  3.66952632  3.40502763\n",
      "   5.95847368]\n",
      " [14.04685714 14.186       0.87613286  5.48754286  3.20041429  3.66905714\n",
      "   5.14114286]]\n",
      "[[11.81808219 13.21178082  0.85023288  5.20857534  2.85157534  4.53321918\n",
      "   5.07247945]\n",
      " [18.40857143 16.163       0.88442143  6.15994286  3.6897      3.50638571\n",
      "   6.00698571]\n",
      " [14.42776119 14.3519403   0.8796      5.53089552  3.25168657  2.99507761\n",
      "   5.14798507]]\n"
     ]
    }
   ],
   "source": [
    "# init centroid (k after 1)\n",
    "for i in range(k-1):\n",
    "    centroid, cluster = clustering(dataset, centroid)\n",
    "    print(centroid)"
   ]
  },
  {
   "cell_type": "code",
   "execution_count": 43,
   "metadata": {},
   "outputs": [],
   "source": [
    "from sklearn.decomposition import IncrementalPCA\n",
    "import matplotlib.pyplot as plt\n",
    "import random"
   ]
  },
  {
   "cell_type": "code",
   "execution_count": 44,
   "metadata": {},
   "outputs": [
    {
     "data": {
      "text/plain": [
       "19"
      ]
     },
     "execution_count": 44,
     "metadata": {},
     "output_type": "execute_result"
    }
   ],
   "source": [
    "# to get x,y from 7 fitur\n",
    "X = dataset\n",
    "ipca = IncrementalPCA(n_components=2)\n",
    "ipca.fit(X)\n",
    "pca = ipca.transform(X)\n",
    "# pca[:,0]\n",
    "# dataset[:,-1:]\n",
    "C = centroid\n",
    "ipca2 = IncrementalPCA(n_components=2)\n",
    "ipca2.fit(C)\n",
    "pca2 = ipca2.transform(C)\n",
    "cluster[0][0]"
   ]
  },
  {
   "cell_type": "code",
   "execution_count": 45,
   "metadata": {},
   "outputs": [
    {
     "data": {
      "image/png": "[encoded data removed]",
      "text/plain": [
       "<matplotlib.figure.Figure at 0x21aa5a28e10>"
      ]
     },
     "metadata": {},
     "output_type": "display_data"
    }
   ],
   "source": [
    "fig, axs = plt.subplots(1, 1, figsize=(5,5))\n",
    "for i in range(k):\n",
    "    color = \"#%06x\" % random.randint(0, 0xFFFFFF)\n",
    "    for j in range(len(cluster[i])):\n",
    "        ke = cluster[i][j]\n",
    "        x = pca[ke,0]\n",
    "        y = pca[ke,1]\n",
    "        axs.scatter(x,y,color=color,marker=\">\")\n",
    "    axs.scatter(pca2[i,0], pca2[i,1], marker=\"o\")\n",
    "plt.show()"
   ]
  },
  {
   "cell_type": "code",
   "execution_count": null,
   "metadata": {},
   "outputs": [],
   "source": []
  },
  {
   "cell_type": "code",
   "execution_count": null,
   "metadata": {},
   "outputs": [],
   "source": []
  }
 ],
 "metadata": {
  "kernelspec": {
   "display_name": "Python 3",
   "language": "python",
   "name": "python3"
  },
  "language_info": {
   "codemirror_mode": {
    "name": "ipython",
    "version": 3
   },
   "file_extension": ".py",
   "mimetype": "text/x-python",
   "name": "python",
   "nbconvert_exporter": "python",
   "pygments_lexer": "ipython3",
   "version": "3.6.4"
  }
 },
 "nbformat": 4,
 "nbformat_minor": 2
}
